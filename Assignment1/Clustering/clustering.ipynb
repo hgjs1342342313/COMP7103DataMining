{
 "cells": [
  {
   "cell_type": "code",
   "execution_count": 14,
   "metadata": {},
   "outputs": [
    {
     "name": "stdout",
     "output_type": "stream",
     "text": [
      "          StockName  1/28/2011  4/29/2011  5/20/2011  4/1/2011  5/27/2011  \\\n",
      "0  American Express  -4.755700    4.00509   3.581550 -0.395257   0.768624   \n",
      "1            Boeing  -3.201900    5.65488  -1.449280  0.693878   0.574788   \n",
      "2           Chevron  -0.553840    1.92791   0.529256  1.804510   2.056760   \n",
      "3     Cisco Systems   0.431862    3.48494  -1.724140 -1.843320   0.304692   \n",
      "4            DuPont   3.819160    1.97522   0.000000  1.995930   1.565220   \n",
      "\n",
      "   6/17/2011  4/15/2011  2/18/2011  3/18/2011  ...  1/14/2011  4/8/2011  \\\n",
      "0   1.125940  -0.237274  -1.917280   0.706794  ...    4.63801  1.468980   \n",
      "1   1.505610  -1.425660   0.467675  -2.908530  ...    0.93633  0.122649   \n",
      "2  -0.869652  -3.189360   3.371730   3.670840  ...    2.06707  1.050500   \n",
      "3  -1.122850  -3.839640   0.053079  -3.761930  ...    1.28940  3.762490   \n",
      "4  -0.919448  -1.009920   2.828800  -0.357277  ...    3.10559 -0.180180   \n",
      "\n",
      "   4/21/2011  3/4/2011  3/25/2011  2/4/2011  1/7/2011  2/25/2011  5/13/2011  \\\n",
      "0    2.74809 -0.022868   1.877090  -0.70247  2.448040  -3.137520  -1.138630   \n",
      "1    3.74037 -0.924520   4.339170   3.06093  4.882840  -0.069109  -0.353045   \n",
      "2    3.03001  1.437230   2.811480   3.47363 -0.512765   2.892270  -0.832930   \n",
      "3    0.35545 -1.181530  -0.346021   5.35117  2.542790  -0.480513  -3.707930   \n",
      "4    3.00295 -0.645518   0.557621   4.74576 -0.579421  -1.601460  -3.694940   \n",
      "\n",
      "   1/21/2011  \n",
      "0  -0.065175  \n",
      "1   1.157210  \n",
      "2   0.903809  \n",
      "3  -2.356270  \n",
      "4  -2.382390  \n",
      "\n",
      "[5 rows x 26 columns]\n"
     ]
    }
   ],
   "source": [
    "# read data\n",
    "import pandas as pd\n",
    "import numpy as np\n",
    "import matplotlib.pyplot as plt\n",
    "\n",
    "data = pd.read_csv('clustering_data.csv')\n",
    "print(data.head())"
   ]
  },
  {
   "cell_type": "markdown",
   "metadata": {},
   "source": [
    "**Question 1**:\n",
    "You should run the k-means algorithm on the stock data, while using\n",
    "init='random' and the default values for the other parameters. Compute\n",
    "the sum of squared errors (SSE) for the clustering you obtained and include\n",
    "it in your report."
   ]
  },
  {
   "cell_type": "code",
   "execution_count": 58,
   "metadata": {},
   "outputs": [
    {
     "name": "stderr",
     "output_type": "stream",
     "text": [
      "c:\\AllUNeed\\Anaconda\\Lib\\site-packages\\sklearn\\cluster\\_kmeans.py:1412: FutureWarning: The default value of `n_init` will change from 10 to 'auto' in 1.4. Set the value of `n_init` explicitly to suppress the warning\n",
      "  super()._check_params_vs_input(X, default_n_init=10)\n",
      "c:\\AllUNeed\\Anaconda\\Lib\\site-packages\\sklearn\\cluster\\_kmeans.py:1436: UserWarning: KMeans is known to have a memory leak on Windows with MKL, when there are less chunks than available threads. You can avoid it by setting the environment variable OMP_NUM_THREADS=1.\n",
      "  warnings.warn(\n"
     ]
    },
    {
     "name": "stdout",
     "output_type": "stream",
     "text": [
      "[4 5 0 1 7 1 4 4 4 7 4 3 7 6 7 2 7 4 7 7 5 7 3 7 3 7 7 7 7]\n",
      "       StockName  1/28/2011  4/29/2011  5/20/2011  4/1/2011  5/27/2011  \\\n",
      "1         Boeing  -3.201900   5.654880  -1.449280  0.693878   0.574788   \n",
      "2        Chevron  -0.553840   1.927910   0.529256  1.804510   2.056760   \n",
      "3  Cisco Systems   0.431862   3.484940  -1.724140 -1.843320   0.304692   \n",
      "4         DuPont   3.819160   1.975220   0.000000  1.995930   1.565220   \n",
      "5          Kraft  -2.739730   0.418535   1.119400  0.829346  -0.629111   \n",
      "\n",
      "   6/17/2011  4/15/2011  2/18/2011  3/18/2011  ...  4/8/2011  4/21/2011  \\\n",
      "1   1.505610   -1.42566   0.467675  -2.908530  ...  0.122649    3.74037   \n",
      "2  -0.869652   -3.18936   3.371730   3.670840  ...  1.050500    3.03001   \n",
      "3  -1.122850   -3.83964   0.053079  -3.761930  ...  3.762490    0.35545   \n",
      "4  -0.919448   -1.00992   2.828800  -0.357277  ... -0.180180    3.00295   \n",
      "5   1.650940    5.13709   0.782524  -1.650270  ... -0.126143    2.01711   \n",
      "\n",
      "   3/4/2011  3/25/2011  2/4/2011  1/7/2011  2/25/2011  5/13/2011  1/21/2011  \\\n",
      "1 -0.924520   4.339170   3.06093  4.882840  -0.069109  -0.353045   1.157210   \n",
      "2  1.437230   2.811480   3.47363 -0.512765   2.892270  -0.832930   0.903809   \n",
      "3 -1.181530  -0.346021   5.35117  2.542790  -0.480513  -3.707930  -2.356270   \n",
      "4 -0.645518   0.557621   4.74576 -0.579421  -1.601460  -3.694940  -2.382390   \n",
      "5 -0.754243   1.559450   2.16181 -1.794710   3.222660   3.194320  -0.191022   \n",
      "\n",
      "   Cluster  \n",
      "1        4  \n",
      "2        5  \n",
      "3        0  \n",
      "4        1  \n",
      "5        7  \n",
      "\n",
      "[5 rows x 27 columns]\n",
      "SSE: 1637.3258242133606\n"
     ]
    },
    {
     "name": "stderr",
     "output_type": "stream",
     "text": [
      "C:\\Users\\sygra\\AppData\\Local\\Temp\\ipykernel_34268\\627315949.py:10: SettingWithCopyWarning: \n",
      "A value is trying to be set on a copy of a slice from a DataFrame.\n",
      "Try using .loc[row_indexer,col_indexer] = value instead\n",
      "\n",
      "See the caveats in the documentation: https://pandas.pydata.org/pandas-docs/stable/user_guide/indexing.html#returning-a-view-versus-a-copy\n",
      "  data_without_title['Cluster'] = labels\n"
     ]
    }
   ],
   "source": [
    "# k means clustering\n",
    "# The user warning is due to the windows system, it doesn't affect the result\n",
    "from sklearn.cluster import KMeans\n",
    "data_without_title = data.iloc[1:]\n",
    "features = data_without_title.iloc[:,1:]\n",
    "kmeans = KMeans(n_clusters=8, init = 'random')\n",
    "kmeans.fit(features)\n",
    "labels = kmeans.labels_\n",
    "print(labels)\n",
    "data_without_title['Cluster'] = labels\n",
    "print(data_without_title.head())\n",
    "\n",
    "centroids = kmeans.cluster_centers_\n",
    "distances = np.sum((features - centroids[labels]) ** 2, axis=1)\n",
    "sse = np.sum(distances)\n",
    "# print(centroids)\n",
    "print('SSE:', sse)\n"
   ]
  },
  {
   "cell_type": "markdown",
   "metadata": {},
   "source": [
    "**Question 2**: You should then try to decrease the SSE as much as possible (while keeping k= 8) by changing some of the parameters accordingly.  To this end,select two parameters that you think should impact the results the most.For each parameter explain :  a) how you expect that changing that parameter would affect the results (increasing its value means better or worseresults?)  b) whether increasing or decreasing the value of the parametershould always improve the results or not necessarily."
   ]
  },
  {
   "cell_type": "code",
   "execution_count": 91,
   "metadata": {},
   "outputs": [
    {
     "name": "stderr",
     "output_type": "stream",
     "text": [
      "c:\\AllUNeed\\Anaconda\\Lib\\site-packages\\sklearn\\cluster\\_kmeans.py:1412: FutureWarning: The default value of `n_init` will change from 10 to 'auto' in 1.4. Set the value of `n_init` explicitly to suppress the warning\n",
      "  super()._check_params_vs_input(X, default_n_init=10)\n",
      "c:\\AllUNeed\\Anaconda\\Lib\\site-packages\\sklearn\\cluster\\_kmeans.py:1436: UserWarning: KMeans is known to have a memory leak on Windows with MKL, when there are less chunks than available threads. You can avoid it by setting the environment variable OMP_NUM_THREADS=1.\n",
      "  warnings.warn(\n"
     ]
    },
    {
     "name": "stdout",
     "output_type": "stream",
     "text": [
      "SSE: 1423.7404182047708\n"
     ]
    },
    {
     "name": "stderr",
     "output_type": "stream",
     "text": [
      "C:\\Users\\sygra\\AppData\\Local\\Temp\\ipykernel_34268\\154555436.py:10: SettingWithCopyWarning: \n",
      "A value is trying to be set on a copy of a slice from a DataFrame.\n",
      "Try using .loc[row_indexer,col_indexer] = value instead\n",
      "\n",
      "See the caveats in the documentation: https://pandas.pydata.org/pandas-docs/stable/user_guide/indexing.html#returning-a-view-versus-a-copy\n",
      "  data_without_title['Cluster'] = labels\n"
     ]
    }
   ],
   "source": [
    "# k means clustering\n",
    "from sklearn.cluster import KMeans\n",
    "data_without_title = data.iloc[1:]\n",
    "features = data_without_title.iloc[:,1:]\n",
    "kmeans = KMeans(n_clusters=8, init = 'k-means++', tol=1e-5)\n",
    "# kmeans = KMeans(n_clusters=8, init = 'k-means++', tol=1e-4, n_init = 100)\n",
    "kmeans.fit(features)\n",
    "labels = kmeans.labels_\n",
    "# print(labels)\n",
    "data_without_title['Cluster'] = labels\n",
    "# print(data_without_title.head())\n",
    "\n",
    "centroids = kmeans.cluster_centers_\n",
    "distances = np.sum((features - centroids[labels]) ** 2, axis=1)\n",
    "sse = np.sum(distances)\n",
    "# print(centroids)\n",
    "print('SSE:', sse)"
   ]
  },
  {
   "cell_type": "markdown",
   "metadata": {},
   "source": [
    "In question 2, I set init to k-means++, and tol = 1e-5.</br>\n",
    "**Question-a**: The parameter init could be set as k-means++. k-means++ selects initial cluster centroids using sampling, which means it can gives a better initial centroid.</br></br>\n",
    "The parameter tol is the relative tolerance. When the sse changes smaller than tol, the algorithm terminates. This could reduce the unnecessary computing. Decreasing this could gives a smaller tolerance which produces a better results since SSE will decrease more.</br></br>\n",
    "*Plus, I also tried to set n_init = 100. This parameter means the initial centroid selection will be ran 100 times to get the best centroid. Increasing this parameter will produce a better result since we might find a better result in a larger space. However, as I used k-means++ for initial centroid selection, this is not as much as significant as tol.</br></br>\n",
    "**Question-b**: Increasing or decreasing the parameter will not always provides a better result. When the algorithm wandering within the convergence range, increasing or decreasing the parameters will not make big difference. Instead, if a parameter is too large or too small, it might slow down the algorithm.\n"
   ]
  },
  {
   "cell_type": "markdown",
   "metadata": {},
   "source": [
    "**Question3**: </br>Then  look  at  the  clustering  you  obtained  and  try  to  label  each  clusterwith a topic.  For example:  cluster of technology stocks,  oil stocks,  etc.Don’t expect your clustering to be perfect.  In particular, you might havedifferent kinds of stocks in a given cluster,  while you might not be ableto label all clusters.  We expect that you should be able to label at leastthree clusters with a topic.  It is fine to describe a cluster as a technologycluster if most of the stocks deal with technology, for example.  Explainyour answers"
   ]
  },
  {
   "cell_type": "code",
   "execution_count": 97,
   "metadata": {},
   "outputs": [
    {
     "name": "stdout",
     "output_type": "stream",
     "text": [
      "(29, 1)\n",
      "Cluster 1\n",
      "0     American Express\n",
      "8              Verizon\n",
      "9            Microsoft\n",
      "10                 IBM\n",
      "11      The Home Depot\n",
      "14               Alcoa\n",
      "16     Hewlett-Packard\n",
      "17            Wal-Mart\n",
      "21              Pfizer\n",
      "23          ExxonMobil\n",
      "24           Travelers\n",
      "27           Coca-Cola\n",
      "28                  3M\n",
      "Name: StockName, dtype: object\n",
      "Cluster 2\n",
      "15    Intel\n",
      "Name: StockName, dtype: object\n"
     ]
    }
   ],
   "source": [
    "data_with_name = data.iloc[:,0]\n",
    "# print(labels)\n",
    "# print(data_with_name)\n",
    "# add a column to the data with name\n",
    "labels_df = pd.DataFrame(labels, columns=['Cluster'])\n",
    "data_with_name = pd.concat([data_with_name, labels_df], axis=1)\n",
    "\n",
    "# print(data_with_name)\n",
    "# for each cluster, print all the names\n",
    "for i in range(1, 3):\n",
    "    print('Cluster', i)\n",
    "    print(data_with_name[ data_with_name['Cluster'] == (i)]['StockName'])"
   ]
  },
  {
   "cell_type": "markdown",
   "metadata": {},
   "source": [
    "| Cluster | Label | \n",
    "|--------|--------|\n",
    "| 1    | Technology Stock  | \n",
    "| 2    | Technology Stock    | \n",
    "\n",
    "\n",
    "\n",
    "\n",
    "Companies from Cluster 1 are respectly from: Financial, Technology, Technology, Technology, Construction, Construction, Technology, Retail, Biology, Energy, Financial, Food, Technology. There is only one company in cluster2: Intel, which represent this is a Technology Stock cluster."
   ]
  },
  {
   "cell_type": "code",
   "execution_count": 94,
   "metadata": {},
   "outputs": [
    {
     "name": "stdout",
     "output_type": "stream",
     "text": [
      "Cluster 3\n",
      "4               DuPont\n",
      "7      Bank of America\n",
      "12         Walt Disney\n",
      "18    General Electric\n",
      "19                AT&T\n",
      "25      JPMorgan Chase\n",
      "26           McDonalds\n",
      "Name: StockName, dtype: object\n",
      "Cluster 4\n",
      "6    Caterpillar\n",
      "Name: StockName, dtype: object\n",
      "Cluster 5\n",
      "1                  Boeing\n",
      "20                  Merck\n",
      "22    United Technologies\n",
      "Name: StockName, dtype: object\n"
     ]
    }
   ],
   "source": [
    "for i in range(3, 6):\n",
    "    print('Cluster', i)\n",
    "    print(data_with_name[ data_with_name['Cluster'] == (i)]['StockName'])"
   ]
  },
  {
   "cell_type": "markdown",
   "metadata": {},
   "source": [
    "| Cluster | Label | \n",
    "|--------|--------|\n",
    "| 3    | Bank Stock | \n",
    "| 4    | Mechanical Stock    | \n",
    "| 5    | Aviation Stock    |\n",
    "\n",
    "\n",
    "Cluster3: Chemical, Bank, Media, Electrical, Communication, Bank, Food. Actually, we cannot give a perfect label since there are too many regions. I gave the label Bank due to the BoA and JP Morgan Chase.</br>\n",
    "Cluster4: Mechanical.</br>\n",
    "Cluster5: Aviation, Medicine, Aviation. Both Boeing and UT are Aviation companies."
   ]
  },
  {
   "cell_type": "code",
   "execution_count": 95,
   "metadata": {},
   "outputs": [
    {
     "name": "stdout",
     "output_type": "stream",
     "text": [
      "Cluster 6\n",
      "2    Chevron\n",
      "Name: StockName, dtype: object\n",
      "Cluster 7\n",
      "3    Cisco Systems\n",
      "5            Kraft\n",
      "Name: StockName, dtype: object\n",
      "Cluster 8\n",
      "Series([], Name: StockName, dtype: object)\n"
     ]
    }
   ],
   "source": [
    "for i in range(6, 9):\n",
    "    print('Cluster', i)\n",
    "    print(data_with_name[ data_with_name['Cluster'] == (i)]['StockName'])"
   ]
  },
  {
   "cell_type": "markdown",
   "metadata": {},
   "source": [
    "| Cluster | Label | \n",
    "|--------|--------|\n",
    "| 6    | Energy Stock | \n",
    "| 7    | x    | \n",
    "| 8    | Empty Cluster    |\n",
    "\n",
    "Cluster6: The cluster 6 contains Chevron, which is a Energy company.</br>\n",
    "Cluster7: Unable to label since there are two companies from different regions.</br>\n",
    "Cluster8: An amazing empty set."
   ]
  }
 ],
 "metadata": {
  "kernelspec": {
   "display_name": "Plotly",
   "language": "python",
   "name": "Plotly"
  },
  "language_info": {
   "codemirror_mode": {
    "name": "ipython",
    "version": 3
   },
   "file_extension": ".py",
   "mimetype": "text/x-python",
   "name": "python",
   "nbconvert_exporter": "python",
   "pygments_lexer": "ipython3",
   "version": "3.11.4"
  },
  "orig_nbformat": 4
 },
 "nbformat": 4,
 "nbformat_minor": 2
}
